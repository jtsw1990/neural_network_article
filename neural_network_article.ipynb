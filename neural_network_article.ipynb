{
 "cells": [
  {
   "cell_type": "code",
   "execution_count": 5,
   "metadata": {
    "ExecuteTime": {
     "end_time": "2019-06-29T16:25:28.125213Z",
     "start_time": "2019-06-29T16:25:28.122294Z"
    }
   },
   "outputs": [],
   "source": [
    "from ipywidgets import interact\n",
    "import ipywidgets as widgets\n",
    "import pandas as pd\n",
    "import numpy as np\n",
    "import matplotlib.pyplot as plt\n",
    "from sklearn.datasets import make_moons"
   ]
  },
  {
   "cell_type": "markdown",
   "metadata": {},
   "source": [
    "## Dataset"
   ]
  },
  {
   "cell_type": "markdown",
   "metadata": {},
   "source": [
    "Artificially generated dataset\n",
    "- Using 2 features\n",
    "- Binary response\n",
    "- Replicating non-separability"
   ]
  },
  {
   "cell_type": "code",
   "execution_count": 6,
   "metadata": {
    "ExecuteTime": {
     "end_time": "2019-06-29T16:25:28.929606Z",
     "start_time": "2019-06-29T16:25:28.923832Z"
    }
   },
   "outputs": [],
   "source": [
    "X, y = make_moons(n_samples=50, noise=0.2, random_state=42)\n",
    "df = pd.DataFrame(dict(x=X[:,1], y=X[:,0], label=y))\n",
    "df.columns = [\n",
    "    \"age_of_car\",\n",
    "    \"age_of_customer\",\n",
    "    \"response\"\n",
    "]"
   ]
  },
  {
   "cell_type": "markdown",
   "metadata": {},
   "source": [
    "## Define dataset plotting function\n",
    "- Main purpose is to abstract away this step"
   ]
  },
  {
   "cell_type": "code",
   "execution_count": 15,
   "metadata": {
    "ExecuteTime": {
     "end_time": "2019-06-29T16:30:01.455519Z",
     "start_time": "2019-06-29T16:30:01.451105Z"
    }
   },
   "outputs": [],
   "source": [
    "def plot_data(df):\n",
    "    colors = {\n",
    "        0: \"blue\", \n",
    "        1: \"red\"\n",
    "    }\n",
    "    fig, ax = plt.subplots()\n",
    "    grouped = df.groupby(\"response\")\n",
    "    for key, group in grouped:\n",
    "        group.plot(\n",
    "            ax=ax, \n",
    "            kind=\"scatter\", \n",
    "            x=\"age_of_customer\", \n",
    "            y=\"age_of_car\", \n",
    "            label=key, \n",
    "            color=colors[key]\n",
    "        )\n",
    "    plt.xlim(-1.5, 2)\n",
    "    plt.ylim(-1.5, 2)"
   ]
  },
  {
   "cell_type": "markdown",
   "metadata": {},
   "source": [
    "## First Widget - Single Layered Network"
   ]
  },
  {
   "cell_type": "code",
   "execution_count": 16,
   "metadata": {
    "ExecuteTime": {
     "end_time": "2019-06-29T16:30:02.378520Z",
     "start_time": "2019-06-29T16:30:02.092305Z"
    },
    "scrolled": true
   },
   "outputs": [
    {
     "data": {
      "application/vnd.jupyter.widget-view+json": {
       "model_id": "76bf02ac7a8e43e385988111c41e4034",
       "version_major": 2,
       "version_minor": 0
      },
      "text/plain": [
       "interactive(children=(FloatSlider(value=0.1, description='$w_1$', max=0.5, min=-0.5, step=0.01), FloatSlider(v…"
      ]
     },
     "metadata": {},
     "output_type": "display_data"
    }
   ],
   "source": [
    "@interact(\n",
    "    w1=widgets.FloatSlider(description=r'$w_1$', min=-0.5, max=0.5, step=0.01, value=0.1),\n",
    "    w2=widgets.FloatSlider(description=r'$w_2$', min=-0.5, max=0.5, step=0.01, value=0.1),\n",
    "    w3=widgets.FloatSlider(description=r'$w_3$', min=-0.5, max=0.5, step=0.01, value=0.1),\n",
    "    w4=widgets.FloatSlider(description=r'$w_4$', min=-0.5, max=0.5, step=0.01, value=0),\n",
    ")\n",
    "def plot_db(w1, w2, w3, w4):\n",
    "    weights = (w1 - w3) / (w4 - w2)\n",
    "    db_range = np.arange(-20, 20, 4)\n",
    "    plot_data(df)\n",
    "    plt.plot(db_range, weights * db_range, alpha=0)\n",
    "    plt.fill_between(\n",
    "        db_range, \n",
    "        np.full((1, len(db_range)), -50)[0], \n",
    "        weights * db_range, \n",
    "        where=weights * db_range>=np.full((1, len(db_range)), -50)[0], \n",
    "        facecolor='red', \n",
    "        alpha=0.3\n",
    "    )"
   ]
  },
  {
   "cell_type": "markdown",
   "metadata": {},
   "source": [
    "## Second Widget - Single Layered Network with Bias"
   ]
  },
  {
   "cell_type": "code",
   "execution_count": 21,
   "metadata": {
    "ExecuteTime": {
     "end_time": "2019-06-29T16:48:45.757035Z",
     "start_time": "2019-06-29T16:48:45.417116Z"
    }
   },
   "outputs": [
    {
     "data": {
      "application/vnd.jupyter.widget-view+json": {
       "model_id": "51a6e3b374ef4b4e80e7d8440c097f2a",
       "version_major": 2,
       "version_minor": 0
      },
      "text/plain": [
       "interactive(children=(FloatSlider(value=0.1, description='$w_1$', max=0.5, min=-0.5, step=0.01), FloatSlider(v…"
      ]
     },
     "metadata": {},
     "output_type": "display_data"
    }
   ],
   "source": [
    "@interact(\n",
    "    w1=widgets.FloatSlider(description=r\"$w_1$\", min=-0.5, max=0.5, step=0.01, value=0.1),\n",
    "    w2=widgets.FloatSlider(description=r\"$w_2$\", min=-0.5, max=0.5, step=0.01, value=0.1),\n",
    "    w3=widgets.FloatSlider(description=r\"$w_3$\", min=-0.5, max=0.5, step=0.01, value=0.1),\n",
    "    w4=widgets.FloatSlider(description=r\"$w_4$\", min=-0.5, max=0.5, step=0.01, value=0),\n",
    "    b1=widgets.FloatSlider(description=r\"$b_1$\", min=-0.1, max=0.5, step=0.01, value=0),\n",
    "    b2=widgets.FloatSlider(description=r\"$b_2$\", min=-0.1, max=0.5, step=0.01, value=0)\n",
    ")\n",
    "def plot_db(w1, w2, w3, w4, b1, b2):\n",
    "    weights = (w1 - w3) / (w4 - w2)\n",
    "    db_range = np.arange(-20, 20, 4)\n",
    "    plot_data(df)\n",
    "    plt.plot(db_range, \n",
    "             (weights * db_range) + ((b1 - b2) / (w4 - w2)), \n",
    "             alpha=0)\n",
    "    plt.fill_between(\n",
    "        db_range, \n",
    "        np.full((1, len(db_range)), -50)[0], \n",
    "        (weights * db_range) + ((b1 - b2) / (w4 - w2)), \n",
    "        where=(weights * db_range) + ((b1 - b2) / (w4 - w2))>=np.full((1, len(db_range)), -50)[0], \n",
    "        facecolor='red', \n",
    "        alpha=0.3\n",
    "    )"
   ]
  },
  {
   "cell_type": "markdown",
   "metadata": {},
   "source": [
    "## Third Widget - Multi Layered Activation"
   ]
  },
  {
   "cell_type": "code",
   "execution_count": null,
   "metadata": {},
   "outputs": [],
   "source": [
    "# nbi:hide_in\n",
    "@interact(\n",
    "    w1=widgets.FloatSlider(description=r\"$w_1$\", min=-0.5, max=0.5, step=0.01, value=0.1),\n",
    "    w2=widgets.FloatSlider(description=r\"$w_2$\", min=-0.5, max=0.5, step=0.01, value=0.1),\n",
    "    w3=widgets.FloatSlider(description=r\"$w_3$\", min=-0.5, max=0.5, step=0.01, value=0.1),\n",
    "    w4=widgets.FloatSlider(description=r\"$w_4$\", min=-0.5, max=0.5, step=0.01, value=0.1),    w4=widgets.FloatSlider(description=r\"$w_4$\", min=-0.5, max=0.5, s\n",
    "    w5=widgets.FloatSlider(description=r\"$w_3$\", min=-0.5, max=0.5, step=0.01, value=0.1),    w5=widgets.FloatSlider(min=-5, max=5, step=0.1, value=0.3),\n",
    "    w6=widgets.FloatSlider(description=r\"$w_3$\", min=-0.5, max=0.5, step=0.01, value=0.1),\n",
    "    w3=widgets.FloatSlider(description=r\"$w_3$\", min=-0.5, max=0.5, step=0.01, value=0.1),\n",
    "    w7=widgets.FloatSlider(description=r\"$w_3$\", min=-0.5, max=0.5, step=0.01, value=0.1),\n",
    "    w3=widgets.FloatSlider(description=r\"$w_3$\", min=-0.5, max=0.5, step=0.01, value=0.1),\n",
    "    w8=widgets.FloatSlider(description=r\"$w_3$\", min=-0.5, max=0.5, step=0.01, value=0.1),\n",
    "    w9=widgets.FloatSlider(description=r\"$w_3$\", min=-0.5, max=0.5, step=0.01, value=0.1),\n",
    "    w10=widgets.FloatSlider(description=r\"$w_3$\", min=-0.5, max=0.5, step=0.01, value=0.1),\n",
    "    b11widgets.FloatSlider(min=-5, max=5, step=0.1, value=-0.1),\n",
    "    b2=widgets.FloatSlider(min=-5, max=5, step=0.1, value=0),\n",
    "    b3=widgets.FloatSlider(min=-5, max=5, step=0.1, value=-0.6),\n",
    "    b4=widgets.FloatSlider(min=-5, max=5, step=0.1, value=-0.6),\n",
    "    b5=widgets.FloatSlider(min=-5, max=5, step=0.1, value=0.4),\n",
    "    activation_function =True\n",
    "         )\n",
    "def plot_decision_boundary(w1, w2, w3, w4, w5, w6, w7, w8, w9, w10, w11, w12, b1, b2, b3, b4, b5, activation=True):\n",
    "    df = pd.DataFrame(np.array([[1, 2, 0], [5, 5, 1], [5, 2, 1], [3, 2, 1], [1, 5, 0], [3, 4, 1], [2, 2, 0], [1, 3, 0], [4, 5, 1], [3, 1, 0]]))\n",
    "    df.columns = [\"feature_one\", \"feature_two\", \"response\"]\n",
    "    a1 = w7 - w10\n",
    "    a2 = w8 - w11\n",
    "    a3 = w9 - w12\n",
    "    plt.figure() # Create a new figure window\n",
    "    xlist = np.linspace(-10.0, 10.0, 100) # Create 1-D arrays for x,y dimensions\n",
    "    ylist = np.linspace(-10.0, 10.0, 100)\n",
    "    plt.scatter(\n",
    "        df[\"feature_one\"], \n",
    "        df[\"feature_two\"], \n",
    "        c=df[\"response\"], \n",
    "        cmap=\"Accent\"\n",
    "        )\n",
    "    if activation:\n",
    "        X,Y = np.meshgrid(xlist, ylist) # Create 2-D grid xlist,ylist values\n",
    "        F = (a1 / (1 + exp(-(w1 * X + w2 * Y + b1)))) + (a2 / (1 + exp(-(w3 * X + w4 * Y + b2)))) + (a3 / (1 + exp(-(w5 * X + w6 * Y + b3)))) + b5 - b4\n",
    "        plt.contour(X, Y, F, [0], colors = 'k', linestyles = 'solid')\n",
    "        plt.show()\n",
    "    else:\n",
    "        x_points = df[\"feature_one\"].values\n",
    "        denominator = w1 * a1 + w4 * a2 + w6 * a3\n",
    "        num_1 = b5 - b4 - (b1 * a1) - (b2 * a2) - (b3 * a3)\n",
    "        num_2 =  x_points * (w1 * a1 + w3 * a2 + w5 * a3)\n",
    "        y_points = (num_1 - num_2) / denominator\n",
    "        plt.xlim(np.min(xlist), np.max(xlist))\n",
    "        plt.ylim(np.min(ylist), np.max(ylist))\n",
    "        plt.plot(x_points, y_points, alpha=1)\n",
    "        x = np.linspace(0, 5, 10)\n",
    "        plt.show()\n",
    "        # boundary= np.min(list(y_points) + [0])\n",
    "        # shade_y = np.linspace(boundary, boundary, len(x))\n",
    "        # plt.plot(x, shade_y, alpha=0)\n",
    "        # testing_shade_y = weights * x\n",
    "        # plt.fill_between(x, testing_shade_y, shade_y, where=y_points>=shade_y, facecolor='green', alpha=0.3)"
   ]
  }
 ],
 "metadata": {
  "kernelspec": {
   "display_name": "Python 3",
   "language": "python",
   "name": "python3"
  },
  "language_info": {
   "codemirror_mode": {
    "name": "ipython",
    "version": 3
   },
   "file_extension": ".py",
   "mimetype": "text/x-python",
   "name": "python",
   "nbconvert_exporter": "python",
   "pygments_lexer": "ipython3",
   "version": "3.6.8"
  },
  "varInspector": {
   "cols": {
    "lenName": 16,
    "lenType": 16,
    "lenVar": 40
   },
   "kernels_config": {
    "python": {
     "delete_cmd_postfix": "",
     "delete_cmd_prefix": "del ",
     "library": "var_list.py",
     "varRefreshCmd": "print(var_dic_list())"
    },
    "r": {
     "delete_cmd_postfix": ") ",
     "delete_cmd_prefix": "rm(",
     "library": "var_list.r",
     "varRefreshCmd": "cat(var_dic_list()) "
    }
   },
   "types_to_exclude": [
    "module",
    "function",
    "builtin_function_or_method",
    "instance",
    "_Feature"
   ],
   "window_display": false
  }
 },
 "nbformat": 4,
 "nbformat_minor": 2
}
