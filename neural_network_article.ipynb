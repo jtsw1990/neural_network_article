{
 "cells": [
  {
   "cell_type": "code",
   "execution_count": 5,
   "metadata": {
    "ExecuteTime": {
     "end_time": "2019-06-30T03:01:58.601581Z",
     "start_time": "2019-06-30T03:01:58.596032Z"
    }
   },
   "outputs": [],
   "source": [
    "from ipywidgets import interact\n",
    "import ipywidgets as widgets\n",
    "from ipywidgets.widgets import FloatSlider\n",
    "from ipywidgets import HBox\n",
    "import pandas as pd\n",
    "import numpy as np\n",
    "import matplotlib.pyplot as plt\n",
    "plt.style.use('seaborn')\n",
    "from sklearn.datasets import make_moons"
   ]
  },
  {
   "cell_type": "markdown",
   "metadata": {},
   "source": [
    "## Dataset"
   ]
  },
  {
   "cell_type": "markdown",
   "metadata": {},
   "source": [
    "Artificially generated dataset\n",
    "- Using 2 arbitrary features:\n",
    "    - Age of policyholder\n",
    "    - Age of vehicle\n",
    "- Binary response\n",
    "    - 1: Accident claim was made\n",
    "    - 2: Accident claim was not made\n",
    "- Replicating non-separability"
   ]
  },
  {
   "cell_type": "code",
   "execution_count": 2,
   "metadata": {
    "ExecuteTime": {
     "end_time": "2019-06-30T03:01:37.017654Z",
     "start_time": "2019-06-30T03:01:37.006900Z"
    }
   },
   "outputs": [],
   "source": [
    "X, y = make_moons(n_samples=100, noise=0.2, random_state=42)\n",
    "df = pd.DataFrame(\n",
    "    dict(x=X[:,1] * 5, y=X[:,0] * 5, label=y)\n",
    ")\n",
    "df.columns = [\n",
    "    \"age_of_car\",\n",
    "    \"age_of_customer\",\n",
    "    \"response\"\n",
    "]"
   ]
  },
  {
   "cell_type": "markdown",
   "metadata": {},
   "source": [
    "## Define dataset plotting function\n",
    "- Main purpose is to abstract away this step"
   ]
  },
  {
   "cell_type": "code",
   "execution_count": 3,
   "metadata": {
    "ExecuteTime": {
     "end_time": "2019-06-30T03:01:37.832755Z",
     "start_time": "2019-06-30T03:01:37.828280Z"
    }
   },
   "outputs": [],
   "source": [
    "def plot_data(df):\n",
    "    colors = {\n",
    "        0: \"blue\", \n",
    "        1: \"red\"\n",
    "    }\n",
    "    fig, ax = plt.subplots(figsize=(10, 10))\n",
    "    grouped = df.groupby(\"response\")\n",
    "    for key, group in grouped:\n",
    "        group.plot(\n",
    "            ax=ax, \n",
    "            kind=\"scatter\", \n",
    "            x=\"age_of_customer\", \n",
    "            y=\"age_of_car\", \n",
    "            label=key, \n",
    "            color=colors[key]\n",
    "        )\n",
    "    plt.xlim(-7.5, 12)\n",
    "    plt.ylim(-7.5, 12)"
   ]
  },
  {
   "cell_type": "markdown",
   "metadata": {},
   "source": [
    "## Defining Parameter Widgets"
   ]
  },
  {
   "cell_type": "code",
   "execution_count": null,
   "metadata": {},
   "outputs": [],
   "source": []
  },
  {
   "cell_type": "markdown",
   "metadata": {},
   "source": [
    "## First Widget - Single Layered Network"
   ]
  },
  {
   "cell_type": "code",
   "execution_count": 32,
   "metadata": {
    "ExecuteTime": {
     "end_time": "2019-06-30T03:10:41.166722Z",
     "start_time": "2019-06-30T03:10:41.162217Z"
    },
    "scrolled": true
   },
   "outputs": [],
   "source": [
    "@interact(\n",
    "    w1=FloatSlider(description=r'$w_1$', min=-0.5, max=0.5, step=0.01, value=0.1),\n",
    "    w2=FloatSlider(description=r'$w_2$', min=-0.5, max=0.5, step=0.01, value=0.1),\n",
    "    w3=FloatSlider(description=r'$w_3$', min=-0.5, max=0.5, step=0.01, value=0.1),\n",
    "    w4=FloatSlider(description=r'$w_4$', min=-0.5, max=0.5, step=0.01, value=0),\n",
    ")\n",
    "def plot_db(w1, w2, w3, w4):\n",
    "    weights = (w1 - w3) / (w4 - w2)\n",
    "    db_range = np.arange(-20, 20, 4)\n",
    "    plot_data(df)\n",
    "    plt.plot(db_range, weights * db_range, alpha=0)\n",
    "    plt.fill_between(\n",
    "        db_range, \n",
    "        np.full((1, len(db_range)), -50)[0], \n",
    "        weights * db_range, \n",
    "        where=weights * db_range>=np.full((1, len(db_range)), -50)[0], \n",
    "        facecolor='red', \n",
    "        alpha=0.3\n",
    "    )"
   ]
  },
  {
   "cell_type": "markdown",
   "metadata": {},
   "source": [
    "## Second Widget - Single Layered Network with Bias"
   ]
  },
  {
   "cell_type": "code",
   "execution_count": 9,
   "metadata": {
    "ExecuteTime": {
     "end_time": "2019-06-30T03:03:08.472599Z",
     "start_time": "2019-06-30T03:03:08.003285Z"
    }
   },
   "outputs": [
    {
     "data": {
      "application/vnd.jupyter.widget-view+json": {
       "model_id": "0c990a85f9c0413b9050469dd0bea03a",
       "version_major": 2,
       "version_minor": 0
      },
      "text/plain": [
       "interactive(children=(FloatSlider(value=0.1, description='$w_1$', max=0.5, min=-0.5, step=0.01), FloatSlider(v…"
      ]
     },
     "metadata": {},
     "output_type": "display_data"
    }
   ],
   "source": [
    "@interact(\n",
    "    w1=FloatSlider(description=r\"$w_1$\", min=-0.5, max=0.5, step=0.01, value=0.1),\n",
    "    w2=FloatSlider(description=r\"$w_2$\", min=-0.5, max=0.5, step=0.01, value=0.1),\n",
    "    w3=FloatSlider(description=r\"$w_3$\", min=-0.5, max=0.5, step=0.01, value=0.1),\n",
    "    w4=FloatSlider(description=r\"$w_4$\", min=-0.5, max=0.5, step=0.01, value=0),\n",
    "    b1=FloatSlider(description=r\"$b_1$\", min=-0.1, max=0.5, step=0.01, value=0),\n",
    "    b2=FloatSlider(description=r\"$b_2$\", min=-0.1, max=0.5, step=0.01, value=0)\n",
    ")\n",
    "def plot_db(w1, w2, w3, w4, b1, b2):\n",
    "    weights = (w1 - w3) / (w4 - w2)\n",
    "    db_range = np.arange(-20, 20, 4)\n",
    "    plot_data(df)\n",
    "    plt.plot(db_range, \n",
    "             (weights * db_range) + ((b1 - b2) / (w4 - w2)), \n",
    "             alpha=0)\n",
    "    plt.fill_between(\n",
    "        db_range, \n",
    "        np.full((1, len(db_range)), -50)[0], \n",
    "        (weights * db_range) + ((b1 - b2) / (w4 - w2)), \n",
    "        where=(weights * db_range) + ((b1 - b2) / (w4 - w2))>=np.full((1, len(db_range)), -50)[0], \n",
    "        facecolor='red', \n",
    "        alpha=0.3\n",
    "    )"
   ]
  },
  {
   "cell_type": "markdown",
   "metadata": {},
   "source": [
    "## Third Widget - Multi Layered Activation"
   ]
  },
  {
   "cell_type": "code",
   "execution_count": 10,
   "metadata": {
    "ExecuteTime": {
     "end_time": "2019-06-30T03:03:44.351112Z",
     "start_time": "2019-06-30T03:03:43.842009Z"
    },
    "scrolled": true
   },
   "outputs": [
    {
     "data": {
      "application/vnd.jupyter.widget-view+json": {
       "model_id": "cfbca61ad7994a59a69cba1a965320ad",
       "version_major": 2,
       "version_minor": 0
      },
      "text/plain": [
       "interactive(children=(FloatSlider(value=0.0, description='$w_1$', max=0.5, min=-0.5, step=0.01), FloatSlider(v…"
      ]
     },
     "metadata": {},
     "output_type": "display_data"
    }
   ],
   "source": [
    "@interact(\n",
    "    w1=FloatSlider(description=r\"$w_1$\", min=-0.5, max=0.5, step=0.01, value=0),\n",
    "    w2=FloatSlider(description=r\"$w_2$\", min=-0.5, max=0.5, step=0.01, value=0),\n",
    "    w3=FloatSlider(description=r\"$w_3$\", min=-0.5, max=0.5, step=0.01, value=0),\n",
    "    w4=FloatSlider(description=r\"$w_4$\", min=-0.5, max=0.5, step=0.01, value=0.1),    \n",
    "    w5=FloatSlider(description=r\"$w_5$\", min=-0.5, max=0.5, step=0.01, value=0.3),\n",
    "    w6=FloatSlider(description=r\"$w_6$\", min=-0.5, max=0.5, step=0.01, value=1.3),\n",
    "    w7=FloatSlider(description=r\"$w_7$\", min=-0.5, max=0.5, step=0.01, value=0.6),\n",
    "    w8=FloatSlider(description=r\"$w_8$\", min=-1, max=0.5, step=0.05, value=0),\n",
    "    w9=FloatSlider(description=r\"$w_9$\", min=-0.5, max=0.5, step=0.01, value=0.3),\n",
    "    w10=FloatSlider(description=r\"$w_{10}$\", min=0.4, max=0.5, step=0.02, value=0.4),\n",
    "    w11=FloatSlider(description=r\"$w_{11}$\", min=0.4, max=0.5, step=0.01, value=0.43),\n",
    "    w12=FloatSlider(description=r\"$w_{12}$\", min=-0.5, max=0.5, step=0.01, value=0.7),\n",
    "    b1=FloatSlider(description=r\"$b_1$\", min=-0.1, max=0.5, step=0.01, value=-0.1),\n",
    "    b2=FloatSlider(description=r\"$b_2$\", min=-0.1, max=0.5, step=0.01, value=0),\n",
    "    b3=FloatSlider(description=r\"$b_3$\", min=-0.1, max=0.5, step=0.01, value=-0.6),\n",
    "    b4=FloatSlider(description=r\"$b_4$\", min=0.05, max=0.5, step=0.05, value=-0.6),\n",
    "    b5=FloatSlider(description=r\"$b_5$\", min=0.2, max=0.25, step=0.01, value=0.23),\n",
    "    sigmoid_activation=True\n",
    "         )\n",
    "def plot_decision_boundary(\n",
    "    w1, w2, w3, w4, w5, w6, w7, w8, w9, w10, w11, w12, b1, b2, b3, b4, b5, \n",
    "    sigmoid_activation=True):\n",
    "    a1 = w7 - w10\n",
    "    a2 = w8 - w11\n",
    "    a3 = w9 - w12\n",
    "    xlist = np.linspace(-20, 20, 100)\n",
    "    ylist = np.linspace(-20, 20, 100)\n",
    "    db_range = np.arange(-20, 20, 0.4)\n",
    "    plot_data(df)\n",
    "    if sigmoid_activation:\n",
    "        X, Y = np.meshgrid(xlist, ylist) # Create 2-D grid xlist,ylist values\n",
    "        F = (\n",
    "            (a1 / (1 + np.exp(-(w1 * X + w2 * Y + b1)))) \n",
    "            + (a2 / (1 + np.exp(-(w3 * X + w4 * Y + b2)))) \n",
    "            + (a3 / (1 + np.exp(-(w5 * X + w6 * Y + b3)))) + b5 - b4\n",
    "        )\n",
    "        plt.contour(X, Y, F, [0], colors=\"k\", linestyles=\"solid\")\n",
    "    else:\n",
    "        plt.plot(db_range, \n",
    "                (((b5 - b4 - (b1 * a1) - (b2 * a2) - (b3 * a3)) - \n",
    "                    db_range * (w1 * a1 + w3 * a2 + w5 * a3))/ (w1 * a1 + w4 * a2 + w6 * a3)), \n",
    "                 alpha=0)\n",
    "        plt.fill_between(\n",
    "            db_range, \n",
    "            np.full((1, len(db_range)), -50)[0], \n",
    "            (((b5 - b4 - (b1 * a1) - (b2 * a2) - (b3 * a3)) - \n",
    "                    db_range * (w1 * a1 + w3 * a2 + w5 * a3))/ (w1 * a1 + w4 * a2 + w6 * a3)), \n",
    "            where=(((b5 - b4 - (b1 * a1) - (b2 * a2) - (b3 * a3)) - \n",
    "                    db_range * (w1 * a1 + w3 * a2 + w5 * a3))/ (w1 * a1 + w4 * a2 + w6 * a3))>=np.full((1, len(db_range)), -50)[0], \n",
    "            facecolor='red', \n",
    "            alpha=0.3\n",
    "        )"
   ]
  },
  {
   "cell_type": "code",
   "execution_count": 93,
   "metadata": {
    "ExecuteTime": {
     "end_time": "2019-06-30T04:06:45.624968Z",
     "start_time": "2019-06-30T04:06:45.584419Z"
    },
    "scrolled": true
   },
   "outputs": [],
   "source": [
    "w1=FloatSlider(description=r\"$w_1$\", min=-0.5, max=0.5, step=0.01, value=0)\n",
    "w2=FloatSlider(description=r\"$w_2$\", min=-0.5, max=0.5, step=0.01, value=0)\n",
    "w3=FloatSlider(description=r\"$w_3$\", min=-0.5, max=0.5, step=0.01, value=0)\n",
    "w4=FloatSlider(description=r\"$w_4$\", min=-0.5, max=0.5, step=0.01, value=0.1)  \n",
    "ui = VBox(\n",
    "    [\n",
    "        HBox([w1, w2]),\n",
    "        HBox([w3, w4])\n",
    "    ]\n",
    ")\n",
    "def plot_db(w1, w2, w3, w4):\n",
    "    weights = (w1 - w3) / (w4 - w2)\n",
    "    db_range = np.arange(-20, 20, 4)\n",
    "    plot_data(df)\n",
    "    plt.plot(db_range, weights * db_range, alpha=0)\n",
    "    plt.fill_between(\n",
    "        db_range, \n",
    "        np.full((1, len(db_range)), -50)[0], \n",
    "        weights * db_range, \n",
    "        where=weights * db_range>=np.full((1, len(db_range)), -50)[0], \n",
    "        facecolor='red', \n",
    "        alpha=0.3\n",
    "    )"
   ]
  },
  {
   "cell_type": "code",
   "execution_count": 94,
   "metadata": {
    "ExecuteTime": {
     "end_time": "2019-06-30T04:06:46.838588Z",
     "start_time": "2019-06-30T04:06:46.533305Z"
    }
   },
   "outputs": [
    {
     "data": {
      "application/vnd.jupyter.widget-view+json": {
       "model_id": "dfe23d8943394cd384c05102a2931539",
       "version_major": 2,
       "version_minor": 0
      },
      "text/plain": [
       "VBox(children=(HBox(children=(FloatSlider(value=0.0, description='$w_1$', max=0.5, min=-0.5, step=0.01), Float…"
      ]
     },
     "metadata": {},
     "output_type": "display_data"
    },
    {
     "data": {
      "application/vnd.jupyter.widget-view+json": {
       "model_id": "bd7ab48667c04824b5f5408d9722c1bf",
       "version_major": 2,
       "version_minor": 0
      },
      "text/plain": [
       "Output()"
      ]
     },
     "metadata": {},
     "output_type": "display_data"
    }
   ],
   "source": [
    "out = widgets.interactive_output(plot_db, {\n",
    "    \"w1\": w1, \n",
    "    \"w2\": w2, \n",
    "    \"w3\": w3, \n",
    "    \"w4\": w4\n",
    "}\n",
    "                                )\n",
    "display(ui, out)"
   ]
  },
  {
   "cell_type": "code",
   "execution_count": null,
   "metadata": {},
   "outputs": [],
   "source": []
  }
 ],
 "metadata": {
  "kernelspec": {
   "display_name": "Python 3",
   "language": "python",
   "name": "python3"
  },
  "language_info": {
   "codemirror_mode": {
    "name": "ipython",
    "version": 3
   },
   "file_extension": ".py",
   "mimetype": "text/x-python",
   "name": "python",
   "nbconvert_exporter": "python",
   "pygments_lexer": "ipython3",
   "version": "3.6.8"
  },
  "varInspector": {
   "cols": {
    "lenName": 16,
    "lenType": 16,
    "lenVar": 40
   },
   "kernels_config": {
    "python": {
     "delete_cmd_postfix": "",
     "delete_cmd_prefix": "del ",
     "library": "var_list.py",
     "varRefreshCmd": "print(var_dic_list())"
    },
    "r": {
     "delete_cmd_postfix": ") ",
     "delete_cmd_prefix": "rm(",
     "library": "var_list.r",
     "varRefreshCmd": "cat(var_dic_list()) "
    }
   },
   "types_to_exclude": [
    "module",
    "function",
    "builtin_function_or_method",
    "instance",
    "_Feature"
   ],
   "window_display": false
  }
 },
 "nbformat": 4,
 "nbformat_minor": 2
}
