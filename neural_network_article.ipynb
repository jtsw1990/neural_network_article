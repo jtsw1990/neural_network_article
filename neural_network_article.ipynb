{
 "cells": [
  {
   "cell_type": "code",
   "execution_count": 1,
   "metadata": {
    "ExecuteTime": {
     "end_time": "2019-06-30T06:34:53.386595Z",
     "start_time": "2019-06-30T06:34:51.794760Z"
    }
   },
   "outputs": [],
   "source": [
    "import ipywidgets as widgets\n",
    "from ipywidgets.widgets import FloatSlider\n",
    "from ipywidgets import interact, HBox, VBox\n",
    "import pandas as pd\n",
    "import numpy as np\n",
    "import matplotlib.pyplot as plt\n",
    "plt.style.use('seaborn')\n",
    "from sklearn.datasets import make_moons"
   ]
  },
  {
   "cell_type": "markdown",
   "metadata": {},
   "source": [
    "## Dataset"
   ]
  },
  {
   "cell_type": "markdown",
   "metadata": {},
   "source": [
    "Artificially generated dataset\n",
    "- Using 2 arbitrary features:\n",
    "    - Age of policyholder\n",
    "    - Age of vehicle\n",
    "- Binary response\n",
    "    - 1: Accident claim was made\n",
    "    - 2: Accident claim was not made\n",
    "- Replicating non-separability"
   ]
  },
  {
   "cell_type": "code",
   "execution_count": 2,
   "metadata": {
    "ExecuteTime": {
     "end_time": "2019-06-30T06:34:53.399054Z",
     "start_time": "2019-06-30T06:34:53.389514Z"
    }
   },
   "outputs": [],
   "source": [
    "# nbi:hide_in\n",
    "X, y = make_moons(n_samples=100, noise=0.2, random_state=42)\n",
    "df = pd.DataFrame(\n",
    "    dict(x=X[:,1] * 5, y=X[:,0] * 5, label=y)\n",
    ")\n",
    "df.columns = [\n",
    "    \"age_of_car\",\n",
    "    \"age_of_customer\",\n",
    "    \"response\"\n",
    "]"
   ]
  },
  {
   "cell_type": "markdown",
   "metadata": {},
   "source": [
    "## Define dataset plotting function\n",
    "- Function to be called in all scenarios"
   ]
  },
  {
   "cell_type": "code",
   "execution_count": 3,
   "metadata": {
    "ExecuteTime": {
     "end_time": "2019-06-30T06:34:53.407115Z",
     "start_time": "2019-06-30T06:34:53.401764Z"
    }
   },
   "outputs": [],
   "source": [
    "# nbi:hide_in\n",
    "def plot_data(df):\n",
    "    colors = {\n",
    "        0: \"blue\", \n",
    "        1: \"red\"\n",
    "    }\n",
    "    fig, ax = plt.subplots(figsize=(10, 10))\n",
    "    grouped = df.groupby(\"response\")\n",
    "    for key, group in grouped:\n",
    "        group.plot(\n",
    "            ax=ax, \n",
    "            kind=\"scatter\", \n",
    "            x=\"age_of_customer\", \n",
    "            y=\"age_of_car\", \n",
    "            label=key, \n",
    "            color=colors[key]\n",
    "        )\n",
    "    plt.xlim(-7.5, 12)\n",
    "    plt.ylim(-7.5, 12)"
   ]
  },
  {
   "cell_type": "markdown",
   "metadata": {},
   "source": [
    "## Defining Parameter Widgets"
   ]
  },
  {
   "cell_type": "code",
   "execution_count": 4,
   "metadata": {
    "ExecuteTime": {
     "end_time": "2019-06-30T06:34:53.538167Z",
     "start_time": "2019-06-30T06:34:53.408874Z"
    }
   },
   "outputs": [],
   "source": [
    "# nbi:hide_in\n",
    "w1=FloatSlider(description=r\"$w_1$\", min=-0.5, max=0.5, step=0.01, value=0)\n",
    "w2=FloatSlider(description=r\"$w_2$\", min=-0.5, max=0.5, step=0.01, value=0)\n",
    "w3=FloatSlider(description=r\"$w_3$\", min=-0.5, max=0.5, step=0.01, value=0)\n",
    "w4=FloatSlider(description=r\"$w_4$\", min=-0.5, max=0.5, step=0.01, value=0.1)   \n",
    "w5=FloatSlider(description=r\"$w_5$\", min=-0.5, max=0.5, step=0.01, value=0.1)\n",
    "w6=FloatSlider(description=r\"$w_6$\", min=-0.5, max=0.5, step=0.01, value=1.3)\n",
    "w7=FloatSlider(description=r\"$w_7$\", min=-0.5, max=0.5, step=0.01, value=0.6)\n",
    "w8=FloatSlider(description=r\"$w_8$\", min=-1, max=0.5, step=0.01, value=0)\n",
    "w9=FloatSlider(description=r\"$w_9$\", min=-0.5, max=0.5, step=0.01, value=0.3)\n",
    "w10=FloatSlider(description=r\"$w_{10}$\", min=0.4, max=0.5, step=0.01, value=0.4)\n",
    "w11=FloatSlider(description=r\"$w_{11}$\", min=0.4, max=0.5, step=0.01, value=0.43)\n",
    "w12=FloatSlider(description=r\"$w_{12}$\", min=-0.5, max=0.5, step=0.01, value=0.7)\n",
    "b1=FloatSlider(description=r\"$b_1$\", min=-0.1, max=0.5, step=0.01, value=-0.1)\n",
    "b2=FloatSlider(description=r\"$b_2$\", min=-0.1, max=0.5, step=0.01, value=0)\n",
    "b3=FloatSlider(description=r\"$b_3$\", min=-0.1, max=0.5, step=0.01, value=-0.6)\n",
    "b4=FloatSlider(description=r\"$b_4$\", min=0.05, max=0.5, step=0.01, value=-0.6)\n",
    "b5=FloatSlider(description=r\"$b_5$\", min=0.2, max=0.25, step=0.01, value=0.23)\n",
    "sigmoid_activation=widgets.ToggleButton(\n",
    "    value=False,\n",
    "    description='Add Activation',\n",
    "    disabled=False,\n",
    "    tooltip='Description',\n",
    ")"
   ]
  },
  {
   "cell_type": "markdown",
   "metadata": {},
   "source": [
    "## First Widget - Single Layered Network"
   ]
  },
  {
   "cell_type": "code",
   "execution_count": 5,
   "metadata": {
    "ExecuteTime": {
     "end_time": "2019-06-30T06:34:53.967906Z",
     "start_time": "2019-06-30T06:34:53.540859Z"
    }
   },
   "outputs": [
    {
     "data": {
      "application/vnd.jupyter.widget-view+json": {
       "model_id": "ee777e8aecf2444a982920ccf1d87d7b",
       "version_major": 2,
       "version_minor": 0
      },
      "text/plain": [
       "VBox(children=(HBox(children=(FloatSlider(value=0.0, description='$w_1$', max=0.5, min=-0.5, step=0.01), Float…"
      ]
     },
     "metadata": {},
     "output_type": "display_data"
    },
    {
     "data": {
      "application/vnd.jupyter.widget-view+json": {
       "model_id": "573de66a32964aacb31ad272e55b8b61",
       "version_major": 2,
       "version_minor": 0
      },
      "text/plain": [
       "Output()"
      ]
     },
     "metadata": {},
     "output_type": "display_data"
    }
   ],
   "source": [
    "# nbi:hide_in\n",
    "ui = VBox(\n",
    "    [\n",
    "        HBox([w1, w2]),\n",
    "        HBox([w3, w4])\n",
    "    ]\n",
    ")\n",
    "def plot_db(w1, w2, w3, w4):\n",
    "    weights = (w1 - w3) / (w4 - w2)\n",
    "    db_range = np.arange(-20, 20, 4)\n",
    "    plot_data(df)\n",
    "    plt.plot(db_range, weights * db_range, alpha=0)\n",
    "    plt.fill_between(\n",
    "        db_range, \n",
    "        np.full((1, len(db_range)), -50)[0], \n",
    "        weights * db_range, \n",
    "        where=weights * db_range>=np.full((1, len(db_range)), -50)[0], \n",
    "        facecolor='red', \n",
    "        alpha=0.3\n",
    "    )\n",
    "out = widgets.interactive_output(\n",
    "    plot_db, {\n",
    "        \"w1\": w1, \n",
    "        \"w2\": w2, \n",
    "        \"w3\": w3, \n",
    "        \"w4\": w4,\n",
    "    }\n",
    ")\n",
    "display(ui, out)"
   ]
  },
  {
   "cell_type": "markdown",
   "metadata": {},
   "source": [
    "## Second Widget - Single Layered Network with Bias"
   ]
  },
  {
   "cell_type": "code",
   "execution_count": 6,
   "metadata": {
    "ExecuteTime": {
     "end_time": "2019-06-30T06:34:54.357590Z",
     "start_time": "2019-06-30T06:34:53.970283Z"
    }
   },
   "outputs": [
    {
     "data": {
      "application/vnd.jupyter.widget-view+json": {
       "model_id": "084f6e58c8cd47eebb26d91e933f7aa4",
       "version_major": 2,
       "version_minor": 0
      },
      "text/plain": [
       "VBox(children=(HBox(children=(FloatSlider(value=0.0, description='$w_1$', max=0.5, min=-0.5, step=0.01), Float…"
      ]
     },
     "metadata": {},
     "output_type": "display_data"
    },
    {
     "data": {
      "application/vnd.jupyter.widget-view+json": {
       "model_id": "7ae4fc3b87d947be9c1142a063504cf3",
       "version_major": 2,
       "version_minor": 0
      },
      "text/plain": [
       "Output()"
      ]
     },
     "metadata": {},
     "output_type": "display_data"
    }
   ],
   "source": [
    "# nbi:hide_in\n",
    "ui = VBox(\n",
    "    [\n",
    "        HBox([w1, w2]),\n",
    "        HBox([w3, w4]),\n",
    "        HBox([b1, b2]),\n",
    "    ]\n",
    ")\n",
    "def plot_db(w1, w2, w3, w4, b1, b2):\n",
    "    weights = (w1 - w3) / (w4 - w2)\n",
    "    db_range = np.arange(-20, 20, 4)\n",
    "    plot_data(df)\n",
    "    plt.plot(db_range, \n",
    "             (weights * db_range) + ((b1 - b2) / (w4 - w2)), \n",
    "             alpha=0)\n",
    "    plt.fill_between(\n",
    "        db_range, \n",
    "        np.full((1, len(db_range)), -50)[0], \n",
    "        (weights * db_range) + ((b1 - b2) / (w4 - w2)), \n",
    "        where=(weights * db_range) + ((b1 - b2) / (w4 - w2))>=np.full((1, len(db_range)), -50)[0], \n",
    "        facecolor='red', \n",
    "        alpha=0.3\n",
    "    )\n",
    "out = widgets.interactive_output(\n",
    "    plot_db, {\n",
    "        \"w1\": w1, \n",
    "        \"w2\": w2, \n",
    "        \"w3\": w3, \n",
    "        \"w4\": w4,\n",
    "        \"b1\": b1,\n",
    "        \"b2\": b2,\n",
    "    }\n",
    ")\n",
    "display(ui, out)"
   ]
  },
  {
   "cell_type": "markdown",
   "metadata": {},
   "source": [
    "## Third Widget - Multi Layered Activation"
   ]
  },
  {
   "cell_type": "code",
   "execution_count": 7,
   "metadata": {
    "ExecuteTime": {
     "end_time": "2019-06-30T06:34:54.769616Z",
     "start_time": "2019-06-30T06:34:54.360164Z"
    },
    "scrolled": false
   },
   "outputs": [
    {
     "data": {
      "application/vnd.jupyter.widget-view+json": {
       "model_id": "f0d7be1f07ab4208929dc5dde6089e66",
       "version_major": 2,
       "version_minor": 0
      },
      "text/plain": [
       "VBox(children=(HBox(children=(FloatSlider(value=0.0, description='$w_1$', max=0.5, min=-0.5, step=0.01), Float…"
      ]
     },
     "metadata": {},
     "output_type": "display_data"
    },
    {
     "data": {
      "application/vnd.jupyter.widget-view+json": {
       "model_id": "87b481512d4e42fdb6bc82fdfc0335bd",
       "version_major": 2,
       "version_minor": 0
      },
      "text/plain": [
       "Output()"
      ]
     },
     "metadata": {},
     "output_type": "display_data"
    }
   ],
   "source": [
    "# nbi:hide_in\n",
    "ui = VBox(\n",
    "    [\n",
    "        HBox([w1, w2, w3]),\n",
    "        HBox([w4, w5, w6]),\n",
    "        HBox([w7, w8, w9]),\n",
    "        HBox([w10, w11, w12]),\n",
    "        HBox([b1, b2, b3]),\n",
    "        HBox([b4, b5]),\n",
    "        HBox([sigmoid_activation])\n",
    "    ]\n",
    ")\n",
    "def plot_db(\n",
    "    w1, w2, w3, w4, w5, w6, w7, w8, w9, w10, w11, w12, b1, b2, b3, b4, b5,\n",
    "    sigmoid_activation\n",
    "):\n",
    "    a1 = w7 - w10\n",
    "    a2 = w8 - w11\n",
    "    a3 = w9 - w12\n",
    "    xlist = np.linspace(-20, 20, 100)\n",
    "    ylist = np.linspace(-20, 20, 100)\n",
    "    db_range = np.arange(-20, 20, 0.4)\n",
    "    plot_data(df)\n",
    "    if sigmoid_activation:\n",
    "        X, Y = np.meshgrid(xlist, ylist)\n",
    "        F = (\n",
    "            (a1 / (1 + np.exp(-(w1 * X + w2 * Y + b1)))) \n",
    "            + (a2 / (1 + np.exp(-(w3 * X + w4 * Y + b2)))) \n",
    "            + (a3 / (1 + np.exp(-(w5 * X + w6 * Y + b3)))) + b5 - b4\n",
    "        )\n",
    "        plt.contour(X, Y, F, [0], colors=\"k\", linestyles=\"solid\")\n",
    "    else:\n",
    "        plt.plot(db_range, \n",
    "                (((b5 - b4 - (b1 * a1) - (b2 * a2) - (b3 * a3)) - \n",
    "                    db_range * (w1 * a1 + w3 * a2 + w5 * a3))/ (w1 * a1 + w4 * a2 + w6 * a3)), \n",
    "                 alpha=0)\n",
    "        plt.fill_between(\n",
    "            db_range, \n",
    "            np.full((1, len(db_range)), -50)[0], \n",
    "            (((b5 - b4 - (b1 * a1) - (b2 * a2) - (b3 * a3)) - \n",
    "                    db_range * (w1 * a1 + w3 * a2 + w5 * a3))/ (w1 * a1 + w4 * a2 + w6 * a3)), \n",
    "            where=(((b5 - b4 - (b1 * a1) - (b2 * a2) - (b3 * a3)) - \n",
    "                    db_range * (w1 * a1 + w3 * a2 + w5 * a3))/ (w1 * a1 + w4 * a2 + w6 * a3))>=np.full((1, len(db_range)), -50)[0], \n",
    "            facecolor='red', \n",
    "            alpha=0.3\n",
    "        )\n",
    "out = widgets.interactive_output(\n",
    "    plot_db, {\n",
    "        \"w1\": w1, \n",
    "        \"w2\": w2, \n",
    "        \"w3\": w3, \n",
    "        \"w4\": w4,\n",
    "        \"w5\": w5,\n",
    "        \"w6\": w6,\n",
    "        \"w7\": w7,\n",
    "        \"w8\": w8,\n",
    "        \"w9\": w9,\n",
    "        \"w10\": w10,\n",
    "        \"w11\": w11,\n",
    "        \"w12\": w12,\n",
    "        \"b1\": b1,\n",
    "        \"b2\": b2,\n",
    "        \"b3\": b3,\n",
    "        \"b4\": b4,\n",
    "        \"b5\": b5,\n",
    "        \"sigmoid_activation\": sigmoid_activation\n",
    "    }\n",
    ")\n",
    "display(ui, out)"
   ]
  },
  {
   "cell_type": "code",
   "execution_count": null,
   "metadata": {},
   "outputs": [],
   "source": []
  },
  {
   "cell_type": "code",
   "execution_count": null,
   "metadata": {},
   "outputs": [],
   "source": []
  }
 ],
 "metadata": {
  "kernelspec": {
   "display_name": "Python 3",
   "language": "python",
   "name": "python3"
  },
  "language_info": {
   "codemirror_mode": {
    "name": "ipython",
    "version": 3
   },
   "file_extension": ".py",
   "mimetype": "text/x-python",
   "name": "python",
   "nbconvert_exporter": "python",
   "pygments_lexer": "ipython3",
   "version": "3.6.8"
  },
  "varInspector": {
   "cols": {
    "lenName": 16,
    "lenType": 16,
    "lenVar": 40
   },
   "kernels_config": {
    "python": {
     "delete_cmd_postfix": "",
     "delete_cmd_prefix": "del ",
     "library": "var_list.py",
     "varRefreshCmd": "print(var_dic_list())"
    },
    "r": {
     "delete_cmd_postfix": ") ",
     "delete_cmd_prefix": "rm(",
     "library": "var_list.r",
     "varRefreshCmd": "cat(var_dic_list()) "
    }
   },
   "types_to_exclude": [
    "module",
    "function",
    "builtin_function_or_method",
    "instance",
    "_Feature"
   ],
   "window_display": false
  }
 },
 "nbformat": 4,
 "nbformat_minor": 2
}
