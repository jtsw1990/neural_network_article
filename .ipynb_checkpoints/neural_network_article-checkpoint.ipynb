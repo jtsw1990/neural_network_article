{
 "cells": [
  {
   "cell_type": "code",
   "execution_count": 5,
   "metadata": {
    "ExecuteTime": {
     "end_time": "2019-06-29T16:25:28.125213Z",
     "start_time": "2019-06-29T16:25:28.122294Z"
    }
   },
   "outputs": [],
   "source": [
    "from ipywidgets import interact\n",
    "import ipywidgets as widgets\n",
    "import pandas as pd\n",
    "import numpy as np\n",
    "import matplotlib.pyplot as plt\n",
    "from sklearn.datasets import make_moons"
   ]
  },
  {
   "cell_type": "markdown",
   "metadata": {},
   "source": [
    "## Dataset"
   ]
  },
  {
   "cell_type": "markdown",
   "metadata": {},
   "source": [
    "Artificially generated dataset\n",
    "- Using 2 features\n",
    "- Binary response\n",
    "- Replicating non-separability"
   ]
  },
  {
   "cell_type": "code",
   "execution_count": 6,
   "metadata": {
    "ExecuteTime": {
     "end_time": "2019-06-29T16:25:28.929606Z",
     "start_time": "2019-06-29T16:25:28.923832Z"
    }
   },
   "outputs": [],
   "source": [
    "X, y = make_moons(n_samples=50, noise=0.2, random_state=42)\n",
    "df = pd.DataFrame(dict(x=X[:,1], y=X[:,0], label=y))\n",
    "df.columns = [\n",
    "    \"age_of_car\",\n",
    "    \"age_of_customer\",\n",
    "    \"response\"\n",
    "]"
   ]
  },
  {
   "cell_type": "markdown",
   "metadata": {},
   "source": [
    "## Define dataset plotting function\n",
    "- Main purpose is to abstract away this step"
   ]
  },
  {
   "cell_type": "code",
   "execution_count": 7,
   "metadata": {
    "ExecuteTime": {
     "end_time": "2019-06-29T16:25:29.688425Z",
     "start_time": "2019-06-29T16:25:29.683871Z"
    }
   },
   "outputs": [],
   "source": [
    "def plot_data(df):\n",
    "    colors = {\n",
    "        0: \"blue\", \n",
    "        1: \"red\"\n",
    "    }\n",
    "    fig, ax = plt.subplots()\n",
    "    grouped = df.groupby(\"response\")\n",
    "    for key, group in grouped:\n",
    "        group.plot(\n",
    "            ax=ax, \n",
    "            kind=\"scatter\", \n",
    "            x=\"age_of_customer\", \n",
    "            y=\"age_of_car\", \n",
    "            label=key, \n",
    "            color=colors[key]\n",
    "        )\n",
    "    plt.xlim(-2, 3)\n",
    "    plt.ylim(-2, 3)"
   ]
  },
  {
   "cell_type": "markdown",
   "metadata": {},
   "source": [
    "## First Widget - Single Layered Network"
   ]
  },
  {
   "cell_type": "code",
   "execution_count": 14,
   "metadata": {
    "ExecuteTime": {
     "end_time": "2019-06-29T16:28:31.050063Z",
     "start_time": "2019-06-29T16:28:30.738815Z"
    },
    "scrolled": true
   },
   "outputs": [
    {
     "data": {
      "application/vnd.jupyter.widget-view+json": {
       "model_id": "a2bedd5e291948f4ad5c518b924c0872",
       "version_major": 2,
       "version_minor": 0
      },
      "text/plain": [
       "interactive(children=(FloatSlider(value=0.1, description='$w_1$', max=0.5, min=-0.5, step=0.01), FloatSlider(v…"
      ]
     },
     "metadata": {},
     "output_type": "display_data"
    }
   ],
   "source": [
    "@interact(\n",
    "    w1=widgets.FloatSlider(description=r'$w_1$', min=-0.5, max=0.5, step=0.01, value=0.1),\n",
    "    w2=widgets.FloatSlider(description=r'$w_2$', min=-0.5, max=0.5, step=0.01, value=0.1),\n",
    "    w3=widgets.FloatSlider(description=r'$w_3$', min=-0.5, max=0.5, step=0.01, value=0.1),\n",
    "    w4=widgets.FloatSlider(description=r'$w_4$', min=-0.5, max=0.5, step=0.01, value=0),\n",
    ")\n",
    "def plot_db(w1, w2, w3, w4):\n",
    "    weights = (w1 - w3) / (w4 - w2)\n",
    "    db_range = np.arange(-20, 20, 4)\n",
    "    plot_data(df)\n",
    "    plt.plot(db_range, weights * db_range, alpha=0)\n",
    "    plt.fill_between(\n",
    "        db_range, \n",
    "        np.full((1, len(db_range)), -50)[0], \n",
    "        weights * db_range, \n",
    "        where=weights * db_range>=np.full((1, len(db_range)), -50)[0], \n",
    "        facecolor='red', \n",
    "        alpha=0.3\n",
    "    )"
   ]
  },
  {
   "cell_type": "code",
   "execution_count": null,
   "metadata": {},
   "outputs": [],
   "source": []
  }
 ],
 "metadata": {
  "kernelspec": {
   "display_name": "Python 3",
   "language": "python",
   "name": "python3"
  },
  "language_info": {
   "codemirror_mode": {
    "name": "ipython",
    "version": 3
   },
   "file_extension": ".py",
   "mimetype": "text/x-python",
   "name": "python",
   "nbconvert_exporter": "python",
   "pygments_lexer": "ipython3",
   "version": "3.6.8"
  },
  "varInspector": {
   "cols": {
    "lenName": 16,
    "lenType": 16,
    "lenVar": 40
   },
   "kernels_config": {
    "python": {
     "delete_cmd_postfix": "",
     "delete_cmd_prefix": "del ",
     "library": "var_list.py",
     "varRefreshCmd": "print(var_dic_list())"
    },
    "r": {
     "delete_cmd_postfix": ") ",
     "delete_cmd_prefix": "rm(",
     "library": "var_list.r",
     "varRefreshCmd": "cat(var_dic_list()) "
    }
   },
   "types_to_exclude": [
    "module",
    "function",
    "builtin_function_or_method",
    "instance",
    "_Feature"
   ],
   "window_display": false
  }
 },
 "nbformat": 4,
 "nbformat_minor": 2
}
